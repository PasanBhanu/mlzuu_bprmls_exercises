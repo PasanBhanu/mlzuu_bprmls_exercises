{
 "cells": [
  {
   "cell_type": "code",
   "id": "initial_id",
   "metadata": {
    "collapsed": true,
    "ExecuteTime": {
     "end_time": "2025-08-02T14:52:48.846059Z",
     "start_time": "2025-08-02T14:52:46.523479Z"
    }
   },
   "source": "!pip install -r requirements.txt",
   "outputs": [
    {
     "name": "stdout",
     "output_type": "stream",
     "text": [
      "Requirement already satisfied: numpy in d:\\education\\production ready machine learning\\code\\.venv\\lib\\site-packages (from -r requirements.txt (line 1)) (2.3.1)\n",
      "Requirement already satisfied: pandas in d:\\education\\production ready machine learning\\code\\.venv\\lib\\site-packages (from -r requirements.txt (line 2)) (2.3.1)\n",
      "Requirement already satisfied: scikit-learn in d:\\education\\production ready machine learning\\code\\.venv\\lib\\site-packages (from -r requirements.txt (line 3)) (1.6.1)\n",
      "Requirement already satisfied: imbalanced-learn in d:\\education\\production ready machine learning\\code\\.venv\\lib\\site-packages (from -r requirements.txt (line 4)) (0.13.0)\n",
      "Requirement already satisfied: matplotlib in d:\\education\\production ready machine learning\\code\\.venv\\lib\\site-packages (from -r requirements.txt (line 5)) (3.10.3)\n",
      "Requirement already satisfied: seaborn in d:\\education\\production ready machine learning\\code\\.venv\\lib\\site-packages (from -r requirements.txt (line 6)) (0.13.2)\n",
      "Requirement already satisfied: plotly in d:\\education\\production ready machine learning\\code\\.venv\\lib\\site-packages (from -r requirements.txt (line 7)) (6.2.0)\n",
      "Requirement already satisfied: joblib in d:\\education\\production ready machine learning\\code\\.venv\\lib\\site-packages (from -r requirements.txt (line 8)) (1.5.1)\n",
      "Requirement already satisfied: pyyaml in d:\\education\\production ready machine learning\\code\\.venv\\lib\\site-packages (from -r requirements.txt (line 9)) (6.0.2)\n",
      "Requirement already satisfied: python-dotenv in d:\\education\\production ready machine learning\\code\\.venv\\lib\\site-packages (from -r requirements.txt (line 10)) (1.1.1)\n",
      "Requirement already satisfied: pandas-profiling in d:\\education\\production ready machine learning\\code\\.venv\\lib\\site-packages (from -r requirements.txt (line 11)) (3.0.0)\n",
      "Requirement already satisfied: statsmodels in d:\\education\\production ready machine learning\\code\\.venv\\lib\\site-packages (from -r requirements.txt (line 12)) (0.14.5)\n",
      "Requirement already satisfied: ipython in d:\\education\\production ready machine learning\\code\\.venv\\lib\\site-packages (from -r requirements.txt (line 13)) (9.4.0)\n",
      "Requirement already satisfied: python-dateutil>=2.8.2 in d:\\education\\production ready machine learning\\code\\.venv\\lib\\site-packages (from pandas->-r requirements.txt (line 2)) (2.9.0.post0)\n",
      "Requirement already satisfied: pytz>=2020.1 in d:\\education\\production ready machine learning\\code\\.venv\\lib\\site-packages (from pandas->-r requirements.txt (line 2)) (2025.2)\n",
      "Requirement already satisfied: tzdata>=2022.7 in d:\\education\\production ready machine learning\\code\\.venv\\lib\\site-packages (from pandas->-r requirements.txt (line 2)) (2025.2)\n",
      "Requirement already satisfied: scipy>=1.6.0 in d:\\education\\production ready machine learning\\code\\.venv\\lib\\site-packages (from scikit-learn->-r requirements.txt (line 3)) (1.16.0)\n",
      "Requirement already satisfied: threadpoolctl>=3.1.0 in d:\\education\\production ready machine learning\\code\\.venv\\lib\\site-packages (from scikit-learn->-r requirements.txt (line 3)) (3.6.0)\n",
      "Requirement already satisfied: sklearn-compat<1,>=0.1 in d:\\education\\production ready machine learning\\code\\.venv\\lib\\site-packages (from imbalanced-learn->-r requirements.txt (line 4)) (0.1.3)\n",
      "Requirement already satisfied: contourpy>=1.0.1 in d:\\education\\production ready machine learning\\code\\.venv\\lib\\site-packages (from matplotlib->-r requirements.txt (line 5)) (1.3.2)\n",
      "Requirement already satisfied: cycler>=0.10 in d:\\education\\production ready machine learning\\code\\.venv\\lib\\site-packages (from matplotlib->-r requirements.txt (line 5)) (0.12.1)\n",
      "Requirement already satisfied: fonttools>=4.22.0 in d:\\education\\production ready machine learning\\code\\.venv\\lib\\site-packages (from matplotlib->-r requirements.txt (line 5)) (4.58.5)\n",
      "Requirement already satisfied: kiwisolver>=1.3.1 in d:\\education\\production ready machine learning\\code\\.venv\\lib\\site-packages (from matplotlib->-r requirements.txt (line 5)) (1.4.8)\n",
      "Requirement already satisfied: packaging>=20.0 in d:\\education\\production ready machine learning\\code\\.venv\\lib\\site-packages (from matplotlib->-r requirements.txt (line 5)) (25.0)\n",
      "Requirement already satisfied: pillow>=8 in d:\\education\\production ready machine learning\\code\\.venv\\lib\\site-packages (from matplotlib->-r requirements.txt (line 5)) (11.3.0)\n",
      "Requirement already satisfied: pyparsing>=2.3.1 in d:\\education\\production ready machine learning\\code\\.venv\\lib\\site-packages (from matplotlib->-r requirements.txt (line 5)) (3.2.3)\n",
      "Requirement already satisfied: narwhals>=1.15.1 in d:\\education\\production ready machine learning\\code\\.venv\\lib\\site-packages (from plotly->-r requirements.txt (line 7)) (1.48.1)\n",
      "Requirement already satisfied: pydantic>=1.8.1 in d:\\education\\production ready machine learning\\code\\.venv\\lib\\site-packages (from pandas-profiling->-r requirements.txt (line 11)) (2.11.7)\n",
      "Requirement already satisfied: jinja2>=2.11.1 in d:\\education\\production ready machine learning\\code\\.venv\\lib\\site-packages (from pandas-profiling->-r requirements.txt (line 11)) (3.1.6)\n",
      "Requirement already satisfied: visions==0.7.1 in d:\\education\\production ready machine learning\\code\\.venv\\lib\\site-packages (from visions[type_image_path]==0.7.1->pandas-profiling->-r requirements.txt (line 11)) (0.7.1)\n",
      "Requirement already satisfied: htmlmin>=0.1.12 in d:\\education\\production ready machine learning\\code\\.venv\\lib\\site-packages (from pandas-profiling->-r requirements.txt (line 11)) (0.1.12)\n",
      "Requirement already satisfied: missingno>=0.4.2 in d:\\education\\production ready machine learning\\code\\.venv\\lib\\site-packages (from pandas-profiling->-r requirements.txt (line 11)) (0.5.2)\n",
      "Requirement already satisfied: phik>=0.11.1 in d:\\education\\production ready machine learning\\code\\.venv\\lib\\site-packages (from pandas-profiling->-r requirements.txt (line 11)) (0.12.5)\n",
      "Requirement already satisfied: tangled-up-in-unicode==0.1.0 in d:\\education\\production ready machine learning\\code\\.venv\\lib\\site-packages (from pandas-profiling->-r requirements.txt (line 11)) (0.1.0)\n",
      "Requirement already satisfied: requests>=2.24.0 in d:\\education\\production ready machine learning\\code\\.venv\\lib\\site-packages (from pandas-profiling->-r requirements.txt (line 11)) (2.32.4)\n",
      "Requirement already satisfied: tqdm>=4.48.2 in d:\\education\\production ready machine learning\\code\\.venv\\lib\\site-packages (from pandas-profiling->-r requirements.txt (line 11)) (4.67.1)\n",
      "Requirement already satisfied: attrs>=19.3.0 in d:\\education\\production ready machine learning\\code\\.venv\\lib\\site-packages (from visions==0.7.1->visions[type_image_path]==0.7.1->pandas-profiling->-r requirements.txt (line 11)) (25.3.0)\n",
      "Requirement already satisfied: networkx>=2.4 in d:\\education\\production ready machine learning\\code\\.venv\\lib\\site-packages (from visions==0.7.1->visions[type_image_path]==0.7.1->pandas-profiling->-r requirements.txt (line 11)) (3.5)\n",
      "Requirement already satisfied: bottleneck in d:\\education\\production ready machine learning\\code\\.venv\\lib\\site-packages (from visions==0.7.1->visions[type_image_path]==0.7.1->pandas-profiling->-r requirements.txt (line 11)) (1.5.0)\n",
      "Requirement already satisfied: multimethod==1.4 in d:\\education\\production ready machine learning\\code\\.venv\\lib\\site-packages (from visions==0.7.1->visions[type_image_path]==0.7.1->pandas-profiling->-r requirements.txt (line 11)) (1.4)\n",
      "Requirement already satisfied: imagehash in d:\\education\\production ready machine learning\\code\\.venv\\lib\\site-packages (from visions[type_image_path]==0.7.1->pandas-profiling->-r requirements.txt (line 11)) (4.3.2)\n",
      "Requirement already satisfied: patsy>=0.5.6 in d:\\education\\production ready machine learning\\code\\.venv\\lib\\site-packages (from statsmodels->-r requirements.txt (line 12)) (1.0.1)\n",
      "Requirement already satisfied: colorama in d:\\education\\production ready machine learning\\code\\.venv\\lib\\site-packages (from ipython->-r requirements.txt (line 13)) (0.4.6)\n",
      "Requirement already satisfied: decorator in d:\\education\\production ready machine learning\\code\\.venv\\lib\\site-packages (from ipython->-r requirements.txt (line 13)) (5.2.1)\n",
      "Requirement already satisfied: ipython-pygments-lexers in d:\\education\\production ready machine learning\\code\\.venv\\lib\\site-packages (from ipython->-r requirements.txt (line 13)) (1.1.1)\n",
      "Requirement already satisfied: jedi>=0.16 in d:\\education\\production ready machine learning\\code\\.venv\\lib\\site-packages (from ipython->-r requirements.txt (line 13)) (0.19.2)\n",
      "Requirement already satisfied: matplotlib-inline in d:\\education\\production ready machine learning\\code\\.venv\\lib\\site-packages (from ipython->-r requirements.txt (line 13)) (0.1.7)\n",
      "Requirement already satisfied: prompt_toolkit<3.1.0,>=3.0.41 in d:\\education\\production ready machine learning\\code\\.venv\\lib\\site-packages (from ipython->-r requirements.txt (line 13)) (3.0.51)\n",
      "Requirement already satisfied: pygments>=2.4.0 in d:\\education\\production ready machine learning\\code\\.venv\\lib\\site-packages (from ipython->-r requirements.txt (line 13)) (2.19.2)\n",
      "Requirement already satisfied: stack_data in d:\\education\\production ready machine learning\\code\\.venv\\lib\\site-packages (from ipython->-r requirements.txt (line 13)) (0.6.3)\n",
      "Requirement already satisfied: traitlets>=5.13.0 in d:\\education\\production ready machine learning\\code\\.venv\\lib\\site-packages (from ipython->-r requirements.txt (line 13)) (5.14.3)\n",
      "Requirement already satisfied: typing_extensions>=4.6 in d:\\education\\production ready machine learning\\code\\.venv\\lib\\site-packages (from ipython->-r requirements.txt (line 13)) (4.14.1)\n",
      "Requirement already satisfied: wcwidth in d:\\education\\production ready machine learning\\code\\.venv\\lib\\site-packages (from prompt_toolkit<3.1.0,>=3.0.41->ipython->-r requirements.txt (line 13)) (0.2.13)\n",
      "Requirement already satisfied: parso<0.9.0,>=0.8.4 in d:\\education\\production ready machine learning\\code\\.venv\\lib\\site-packages (from jedi>=0.16->ipython->-r requirements.txt (line 13)) (0.8.4)\n",
      "Requirement already satisfied: MarkupSafe>=2.0 in d:\\education\\production ready machine learning\\code\\.venv\\lib\\site-packages (from jinja2>=2.11.1->pandas-profiling->-r requirements.txt (line 11)) (3.0.2)\n",
      "Requirement already satisfied: annotated-types>=0.6.0 in d:\\education\\production ready machine learning\\code\\.venv\\lib\\site-packages (from pydantic>=1.8.1->pandas-profiling->-r requirements.txt (line 11)) (0.7.0)\n",
      "Requirement already satisfied: pydantic-core==2.33.2 in d:\\education\\production ready machine learning\\code\\.venv\\lib\\site-packages (from pydantic>=1.8.1->pandas-profiling->-r requirements.txt (line 11)) (2.33.2)\n",
      "Requirement already satisfied: typing-inspection>=0.4.0 in d:\\education\\production ready machine learning\\code\\.venv\\lib\\site-packages (from pydantic>=1.8.1->pandas-profiling->-r requirements.txt (line 11)) (0.4.1)\n",
      "Requirement already satisfied: six>=1.5 in d:\\education\\production ready machine learning\\code\\.venv\\lib\\site-packages (from python-dateutil>=2.8.2->pandas->-r requirements.txt (line 2)) (1.17.0)\n",
      "Requirement already satisfied: charset_normalizer<4,>=2 in d:\\education\\production ready machine learning\\code\\.venv\\lib\\site-packages (from requests>=2.24.0->pandas-profiling->-r requirements.txt (line 11)) (3.4.2)\n",
      "Requirement already satisfied: idna<4,>=2.5 in d:\\education\\production ready machine learning\\code\\.venv\\lib\\site-packages (from requests>=2.24.0->pandas-profiling->-r requirements.txt (line 11)) (3.10)\n",
      "Requirement already satisfied: urllib3<3,>=1.21.1 in d:\\education\\production ready machine learning\\code\\.venv\\lib\\site-packages (from requests>=2.24.0->pandas-profiling->-r requirements.txt (line 11)) (2.5.0)\n",
      "Requirement already satisfied: certifi>=2017.4.17 in d:\\education\\production ready machine learning\\code\\.venv\\lib\\site-packages (from requests>=2.24.0->pandas-profiling->-r requirements.txt (line 11)) (2025.7.9)\n",
      "Requirement already satisfied: PyWavelets in d:\\education\\production ready machine learning\\code\\.venv\\lib\\site-packages (from imagehash->visions[type_image_path]==0.7.1->pandas-profiling->-r requirements.txt (line 11)) (1.8.0)\n",
      "Requirement already satisfied: executing>=1.2.0 in d:\\education\\production ready machine learning\\code\\.venv\\lib\\site-packages (from stack_data->ipython->-r requirements.txt (line 13)) (2.2.0)\n",
      "Requirement already satisfied: asttokens>=2.1.0 in d:\\education\\production ready machine learning\\code\\.venv\\lib\\site-packages (from stack_data->ipython->-r requirements.txt (line 13)) (3.0.0)\n",
      "Requirement already satisfied: pure-eval in d:\\education\\production ready machine learning\\code\\.venv\\lib\\site-packages (from stack_data->ipython->-r requirements.txt (line 13)) (0.2.3)\n"
     ]
    },
    {
     "name": "stderr",
     "output_type": "stream",
     "text": [
      "\n",
      "[notice] A new release of pip is available: 25.1.1 -> 25.2\n",
      "[notice] To update, run: python.exe -m pip install --upgrade pip\n"
     ]
    }
   ],
   "execution_count": 1
  },
  {
   "metadata": {
    "ExecuteTime": {
     "end_time": "2025-08-02T14:52:49.278895Z",
     "start_time": "2025-08-02T14:52:49.105964Z"
    }
   },
   "cell_type": "code",
   "source": [
    "import warnings\n",
    "import numpy as np\n",
    "import pandas as pd\n",
    "import matplotlib.pyplot as plt\n",
    "import seaborn as sns\n",
    "from sklearn.ensemble import RandomForestClassifier\n",
    "from sklearn.tree import DecisionTreeClassifier\n",
    "from sklearn.linear_model import LogisticRegression\n",
    "from sklearn.metrics import (\n",
    "    classification_report,\n",
    "    confusion_matrix,\n",
    "    roc_auc_score,\n",
    "    roc_curve,\n",
    "    precision_recall_curve,\n",
    "    f1_score,\n",
    "    precision_score,\n",
    "    recall_score,\n",
    "    accuracy_score\n",
    ")\n",
    "from sklearn.model_selection import (StratifiedKFold, cross_validate, GridSearchCV)\n",
    "warnings.filterwarnings('ignore')"
   ],
   "id": "5c2a6db11a5b9cf3",
   "outputs": [],
   "execution_count": 2
  },
  {
   "metadata": {},
   "cell_type": "markdown",
   "source": "### Load Data",
   "id": "ebb0b9ed4ae21e5e"
  },
  {
   "metadata": {
    "ExecuteTime": {
     "end_time": "2025-08-02T14:52:49.829117Z",
     "start_time": "2025-08-02T14:52:49.822531Z"
    }
   },
   "cell_type": "code",
   "source": [
    "X_train = np.load('artifacts/X_train.npz')['X_train']\n",
    "X_test = np.load('artifacts/X_test.npz')['X_train']\n",
    "Y_train = np.load('artifacts/Y_train.npz')['X_train']\n",
    "Y_test = np.load('artifacts/Y_test.npz')['X_train']"
   ],
   "id": "f38c1afdc4848839",
   "outputs": [],
   "execution_count": 3
  },
  {
   "metadata": {},
   "cell_type": "markdown",
   "source": "### Define Multi-Models",
   "id": "22e00b4f6fa33459"
  },
  {
   "metadata": {
    "ExecuteTime": {
     "end_time": "2025-08-02T14:52:52.000331Z",
     "start_time": "2025-08-02T14:52:51.995973Z"
    }
   },
   "cell_type": "code",
   "source": [
    "lr_param_grid = {\n",
    "    'max_iter': [1000, 5000, 10000],\n",
    "}\n",
    "dt_param_grid = {\n",
    "    'max_depth': [8, 12, 16, 20],\n",
    "    'criterion': [\"gini\", \"entropy\", \"log_loss\"],\n",
    "}\n",
    "rf_param_grid = {\n",
    "    'n_estimators': [50, 100, 150, 200],\n",
    "    'max_depth': [8, 12, 16, 20],\n",
    "    'criterion': [\"gini\", \"entropy\", \"log_loss\"],\n",
    "}\n",
    "\n",
    "param_grids = {\n",
    "    'Logistic Regression': lr_param_grid,\n",
    "    'Decision Tree': dt_param_grid,\n",
    "    'Random Forest': rf_param_grid\n",
    "}"
   ],
   "id": "942c6c75c9efd80a",
   "outputs": [],
   "execution_count": 4
  },
  {
   "metadata": {
    "ExecuteTime": {
     "end_time": "2025-08-02T14:52:52.931336Z",
     "start_time": "2025-08-02T14:52:52.927793Z"
    }
   },
   "cell_type": "code",
   "source": [
    "models = {\n",
    "    'Logistic Regression': LogisticRegression(),\n",
    "    'Decision Tree': DecisionTreeClassifier(),\n",
    "    'Random Forest': RandomForestClassifier(),\n",
    "}"
   ],
   "id": "da174e6305a69335",
   "outputs": [],
   "execution_count": 5
  },
  {
   "metadata": {},
   "cell_type": "markdown",
   "source": "### Configure K-Fold Cross-Validation",
   "id": "e24c593750ade6c1"
  },
  {
   "metadata": {
    "ExecuteTime": {
     "end_time": "2025-08-02T14:52:54.906032Z",
     "start_time": "2025-08-02T14:52:54.902758Z"
    }
   },
   "cell_type": "code",
   "source": "cv = StratifiedKFold(n_splits=6, shuffle=True, random_state=42)",
   "id": "f0ea14e9c0b5ad83",
   "outputs": [],
   "execution_count": 6
  },
  {
   "metadata": {},
   "cell_type": "markdown",
   "source": "### Multi-Model Training with Hyperparameter Tuning",
   "id": "73b231dc4c03b0a3"
  },
  {
   "metadata": {
    "ExecuteTime": {
     "end_time": "2025-08-02T15:01:41.341401Z",
     "start_time": "2025-08-02T14:54:35.288665Z"
    }
   },
   "cell_type": "code",
   "source": [
    "grid_search_results = {}\n",
    "for model_name, model in models.items():\n",
    "    param_grid = param_grids[model_name]\n",
    "\n",
    "    grid_search = GridSearchCV(\n",
    "        estimator=model,\n",
    "        param_grid=param_grid,\n",
    "        cv=cv,\n",
    "        scoring='f1',\n",
    "        verbose=1,\n",
    "        return_train_score=True,\n",
    "    )\n",
    "\n",
    "    print(f\"Training {model_name} with hyperparameter tuning...\")\n",
    "    grid_search.fit(X_train, Y_train)\n",
    "\n",
    "    grid_search_results[model_name] = grid_search\n",
    "    print(f\"Best parameters for {model_name}: {grid_search.best_params_}\")"
   ],
   "id": "a9552c90357b3f91",
   "outputs": [
    {
     "name": "stdout",
     "output_type": "stream",
     "text": [
      "Training Logistic Regression with hyperparameter tuning...\n",
      "Fitting 6 folds for each of 3 candidates, totalling 18 fits\n",
      "Best parameters for Logistic Regression: {'max_iter': 1000}\n",
      "Training Decision Tree with hyperparameter tuning...\n",
      "Fitting 6 folds for each of 12 candidates, totalling 72 fits\n",
      "Best parameters for Decision Tree: {'criterion': 'entropy', 'max_depth': 20}\n",
      "Training Random Forest with hyperparameter tuning...\n",
      "Fitting 6 folds for each of 48 candidates, totalling 288 fits\n",
      "Best parameters for Random Forest: {'criterion': 'log_loss', 'max_depth': 20, 'n_estimators': 100}\n"
     ]
    }
   ],
   "execution_count": 7
  },
  {
   "metadata": {},
   "cell_type": "code",
   "outputs": [],
   "execution_count": null,
   "source": "",
   "id": "7a0cf09752ae8521"
  }
 ],
 "metadata": {
  "kernelspec": {
   "display_name": "Python 3",
   "language": "python",
   "name": "python3"
  },
  "language_info": {
   "codemirror_mode": {
    "name": "ipython",
    "version": 2
   },
   "file_extension": ".py",
   "mimetype": "text/x-python",
   "name": "python",
   "nbconvert_exporter": "python",
   "pygments_lexer": "ipython2",
   "version": "2.7.6"
  }
 },
 "nbformat": 4,
 "nbformat_minor": 5
}
