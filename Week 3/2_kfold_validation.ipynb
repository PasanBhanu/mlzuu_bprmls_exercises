{
 "cells": [
  {
   "cell_type": "code",
   "id": "initial_id",
   "metadata": {
    "collapsed": true,
    "ExecuteTime": {
     "end_time": "2025-08-02T13:39:27.834710Z",
     "start_time": "2025-08-02T13:39:26.033066Z"
    }
   },
   "source": [
    "from sklearn.model_selection import StratifiedKFold\n",
    "!pip install -r requirements.txt"
   ],
   "outputs": [
    {
     "name": "stdout",
     "output_type": "stream",
     "text": [
      "Requirement already satisfied: numpy in d:\\education\\production ready machine learning\\code\\.venv\\lib\\site-packages (from -r requirements.txt (line 1)) (2.3.1)\n",
      "Requirement already satisfied: pandas in d:\\education\\production ready machine learning\\code\\.venv\\lib\\site-packages (from -r requirements.txt (line 2)) (2.3.1)\n",
      "Requirement already satisfied: scikit-learn in d:\\education\\production ready machine learning\\code\\.venv\\lib\\site-packages (from -r requirements.txt (line 3)) (1.6.1)\n",
      "Requirement already satisfied: imbalanced-learn in d:\\education\\production ready machine learning\\code\\.venv\\lib\\site-packages (from -r requirements.txt (line 4)) (0.13.0)\n",
      "Requirement already satisfied: matplotlib in d:\\education\\production ready machine learning\\code\\.venv\\lib\\site-packages (from -r requirements.txt (line 5)) (3.10.3)\n",
      "Requirement already satisfied: seaborn in d:\\education\\production ready machine learning\\code\\.venv\\lib\\site-packages (from -r requirements.txt (line 6)) (0.13.2)\n",
      "Requirement already satisfied: plotly in d:\\education\\production ready machine learning\\code\\.venv\\lib\\site-packages (from -r requirements.txt (line 7)) (6.2.0)\n",
      "Requirement already satisfied: joblib in d:\\education\\production ready machine learning\\code\\.venv\\lib\\site-packages (from -r requirements.txt (line 8)) (1.5.1)\n",
      "Requirement already satisfied: pyyaml in d:\\education\\production ready machine learning\\code\\.venv\\lib\\site-packages (from -r requirements.txt (line 9)) (6.0.2)\n",
      "Requirement already satisfied: python-dotenv in d:\\education\\production ready machine learning\\code\\.venv\\lib\\site-packages (from -r requirements.txt (line 10)) (1.1.1)\n",
      "Requirement already satisfied: pandas-profiling in d:\\education\\production ready machine learning\\code\\.venv\\lib\\site-packages (from -r requirements.txt (line 11)) (3.0.0)\n",
      "Requirement already satisfied: statsmodels in d:\\education\\production ready machine learning\\code\\.venv\\lib\\site-packages (from -r requirements.txt (line 12)) (0.14.5)\n",
      "Requirement already satisfied: ipython in d:\\education\\production ready machine learning\\code\\.venv\\lib\\site-packages (from -r requirements.txt (line 13)) (9.4.0)\n",
      "Requirement already satisfied: python-dateutil>=2.8.2 in d:\\education\\production ready machine learning\\code\\.venv\\lib\\site-packages (from pandas->-r requirements.txt (line 2)) (2.9.0.post0)\n",
      "Requirement already satisfied: pytz>=2020.1 in d:\\education\\production ready machine learning\\code\\.venv\\lib\\site-packages (from pandas->-r requirements.txt (line 2)) (2025.2)\n",
      "Requirement already satisfied: tzdata>=2022.7 in d:\\education\\production ready machine learning\\code\\.venv\\lib\\site-packages (from pandas->-r requirements.txt (line 2)) (2025.2)\n",
      "Requirement already satisfied: scipy>=1.6.0 in d:\\education\\production ready machine learning\\code\\.venv\\lib\\site-packages (from scikit-learn->-r requirements.txt (line 3)) (1.16.0)\n",
      "Requirement already satisfied: threadpoolctl>=3.1.0 in d:\\education\\production ready machine learning\\code\\.venv\\lib\\site-packages (from scikit-learn->-r requirements.txt (line 3)) (3.6.0)\n",
      "Requirement already satisfied: sklearn-compat<1,>=0.1 in d:\\education\\production ready machine learning\\code\\.venv\\lib\\site-packages (from imbalanced-learn->-r requirements.txt (line 4)) (0.1.3)\n",
      "Requirement already satisfied: contourpy>=1.0.1 in d:\\education\\production ready machine learning\\code\\.venv\\lib\\site-packages (from matplotlib->-r requirements.txt (line 5)) (1.3.2)\n",
      "Requirement already satisfied: cycler>=0.10 in d:\\education\\production ready machine learning\\code\\.venv\\lib\\site-packages (from matplotlib->-r requirements.txt (line 5)) (0.12.1)\n",
      "Requirement already satisfied: fonttools>=4.22.0 in d:\\education\\production ready machine learning\\code\\.venv\\lib\\site-packages (from matplotlib->-r requirements.txt (line 5)) (4.58.5)\n",
      "Requirement already satisfied: kiwisolver>=1.3.1 in d:\\education\\production ready machine learning\\code\\.venv\\lib\\site-packages (from matplotlib->-r requirements.txt (line 5)) (1.4.8)\n",
      "Requirement already satisfied: packaging>=20.0 in d:\\education\\production ready machine learning\\code\\.venv\\lib\\site-packages (from matplotlib->-r requirements.txt (line 5)) (25.0)\n",
      "Requirement already satisfied: pillow>=8 in d:\\education\\production ready machine learning\\code\\.venv\\lib\\site-packages (from matplotlib->-r requirements.txt (line 5)) (11.3.0)\n",
      "Requirement already satisfied: pyparsing>=2.3.1 in d:\\education\\production ready machine learning\\code\\.venv\\lib\\site-packages (from matplotlib->-r requirements.txt (line 5)) (3.2.3)\n",
      "Requirement already satisfied: narwhals>=1.15.1 in d:\\education\\production ready machine learning\\code\\.venv\\lib\\site-packages (from plotly->-r requirements.txt (line 7)) (1.48.1)\n",
      "Requirement already satisfied: pydantic>=1.8.1 in d:\\education\\production ready machine learning\\code\\.venv\\lib\\site-packages (from pandas-profiling->-r requirements.txt (line 11)) (2.11.7)\n",
      "Requirement already satisfied: jinja2>=2.11.1 in d:\\education\\production ready machine learning\\code\\.venv\\lib\\site-packages (from pandas-profiling->-r requirements.txt (line 11)) (3.1.6)\n",
      "Requirement already satisfied: visions==0.7.1 in d:\\education\\production ready machine learning\\code\\.venv\\lib\\site-packages (from visions[type_image_path]==0.7.1->pandas-profiling->-r requirements.txt (line 11)) (0.7.1)\n",
      "Requirement already satisfied: htmlmin>=0.1.12 in d:\\education\\production ready machine learning\\code\\.venv\\lib\\site-packages (from pandas-profiling->-r requirements.txt (line 11)) (0.1.12)\n",
      "Requirement already satisfied: missingno>=0.4.2 in d:\\education\\production ready machine learning\\code\\.venv\\lib\\site-packages (from pandas-profiling->-r requirements.txt (line 11)) (0.5.2)\n",
      "Requirement already satisfied: phik>=0.11.1 in d:\\education\\production ready machine learning\\code\\.venv\\lib\\site-packages (from pandas-profiling->-r requirements.txt (line 11)) (0.12.5)\n",
      "Requirement already satisfied: tangled-up-in-unicode==0.1.0 in d:\\education\\production ready machine learning\\code\\.venv\\lib\\site-packages (from pandas-profiling->-r requirements.txt (line 11)) (0.1.0)\n",
      "Requirement already satisfied: requests>=2.24.0 in d:\\education\\production ready machine learning\\code\\.venv\\lib\\site-packages (from pandas-profiling->-r requirements.txt (line 11)) (2.32.4)\n",
      "Requirement already satisfied: tqdm>=4.48.2 in d:\\education\\production ready machine learning\\code\\.venv\\lib\\site-packages (from pandas-profiling->-r requirements.txt (line 11)) (4.67.1)\n",
      "Requirement already satisfied: attrs>=19.3.0 in d:\\education\\production ready machine learning\\code\\.venv\\lib\\site-packages (from visions==0.7.1->visions[type_image_path]==0.7.1->pandas-profiling->-r requirements.txt (line 11)) (25.3.0)\n",
      "Requirement already satisfied: networkx>=2.4 in d:\\education\\production ready machine learning\\code\\.venv\\lib\\site-packages (from visions==0.7.1->visions[type_image_path]==0.7.1->pandas-profiling->-r requirements.txt (line 11)) (3.5)\n",
      "Requirement already satisfied: bottleneck in d:\\education\\production ready machine learning\\code\\.venv\\lib\\site-packages (from visions==0.7.1->visions[type_image_path]==0.7.1->pandas-profiling->-r requirements.txt (line 11)) (1.5.0)\n",
      "Requirement already satisfied: multimethod==1.4 in d:\\education\\production ready machine learning\\code\\.venv\\lib\\site-packages (from visions==0.7.1->visions[type_image_path]==0.7.1->pandas-profiling->-r requirements.txt (line 11)) (1.4)\n",
      "Requirement already satisfied: imagehash in d:\\education\\production ready machine learning\\code\\.venv\\lib\\site-packages (from visions[type_image_path]==0.7.1->pandas-profiling->-r requirements.txt (line 11)) (4.3.2)\n",
      "Requirement already satisfied: patsy>=0.5.6 in d:\\education\\production ready machine learning\\code\\.venv\\lib\\site-packages (from statsmodels->-r requirements.txt (line 12)) (1.0.1)\n",
      "Requirement already satisfied: colorama in d:\\education\\production ready machine learning\\code\\.venv\\lib\\site-packages (from ipython->-r requirements.txt (line 13)) (0.4.6)\n",
      "Requirement already satisfied: decorator in d:\\education\\production ready machine learning\\code\\.venv\\lib\\site-packages (from ipython->-r requirements.txt (line 13)) (5.2.1)\n",
      "Requirement already satisfied: ipython-pygments-lexers in d:\\education\\production ready machine learning\\code\\.venv\\lib\\site-packages (from ipython->-r requirements.txt (line 13)) (1.1.1)\n",
      "Requirement already satisfied: jedi>=0.16 in d:\\education\\production ready machine learning\\code\\.venv\\lib\\site-packages (from ipython->-r requirements.txt (line 13)) (0.19.2)\n",
      "Requirement already satisfied: matplotlib-inline in d:\\education\\production ready machine learning\\code\\.venv\\lib\\site-packages (from ipython->-r requirements.txt (line 13)) (0.1.7)\n",
      "Requirement already satisfied: prompt_toolkit<3.1.0,>=3.0.41 in d:\\education\\production ready machine learning\\code\\.venv\\lib\\site-packages (from ipython->-r requirements.txt (line 13)) (3.0.51)\n",
      "Requirement already satisfied: pygments>=2.4.0 in d:\\education\\production ready machine learning\\code\\.venv\\lib\\site-packages (from ipython->-r requirements.txt (line 13)) (2.19.2)\n",
      "Requirement already satisfied: stack_data in d:\\education\\production ready machine learning\\code\\.venv\\lib\\site-packages (from ipython->-r requirements.txt (line 13)) (0.6.3)\n",
      "Requirement already satisfied: traitlets>=5.13.0 in d:\\education\\production ready machine learning\\code\\.venv\\lib\\site-packages (from ipython->-r requirements.txt (line 13)) (5.14.3)\n",
      "Requirement already satisfied: typing_extensions>=4.6 in d:\\education\\production ready machine learning\\code\\.venv\\lib\\site-packages (from ipython->-r requirements.txt (line 13)) (4.14.1)\n",
      "Requirement already satisfied: wcwidth in d:\\education\\production ready machine learning\\code\\.venv\\lib\\site-packages (from prompt_toolkit<3.1.0,>=3.0.41->ipython->-r requirements.txt (line 13)) (0.2.13)\n",
      "Requirement already satisfied: parso<0.9.0,>=0.8.4 in d:\\education\\production ready machine learning\\code\\.venv\\lib\\site-packages (from jedi>=0.16->ipython->-r requirements.txt (line 13)) (0.8.4)\n",
      "Requirement already satisfied: MarkupSafe>=2.0 in d:\\education\\production ready machine learning\\code\\.venv\\lib\\site-packages (from jinja2>=2.11.1->pandas-profiling->-r requirements.txt (line 11)) (3.0.2)\n",
      "Requirement already satisfied: annotated-types>=0.6.0 in d:\\education\\production ready machine learning\\code\\.venv\\lib\\site-packages (from pydantic>=1.8.1->pandas-profiling->-r requirements.txt (line 11)) (0.7.0)\n",
      "Requirement already satisfied: pydantic-core==2.33.2 in d:\\education\\production ready machine learning\\code\\.venv\\lib\\site-packages (from pydantic>=1.8.1->pandas-profiling->-r requirements.txt (line 11)) (2.33.2)\n",
      "Requirement already satisfied: typing-inspection>=0.4.0 in d:\\education\\production ready machine learning\\code\\.venv\\lib\\site-packages (from pydantic>=1.8.1->pandas-profiling->-r requirements.txt (line 11)) (0.4.1)\n",
      "Requirement already satisfied: six>=1.5 in d:\\education\\production ready machine learning\\code\\.venv\\lib\\site-packages (from python-dateutil>=2.8.2->pandas->-r requirements.txt (line 2)) (1.17.0)\n",
      "Requirement already satisfied: charset_normalizer<4,>=2 in d:\\education\\production ready machine learning\\code\\.venv\\lib\\site-packages (from requests>=2.24.0->pandas-profiling->-r requirements.txt (line 11)) (3.4.2)\n",
      "Requirement already satisfied: idna<4,>=2.5 in d:\\education\\production ready machine learning\\code\\.venv\\lib\\site-packages (from requests>=2.24.0->pandas-profiling->-r requirements.txt (line 11)) (3.10)\n",
      "Requirement already satisfied: urllib3<3,>=1.21.1 in d:\\education\\production ready machine learning\\code\\.venv\\lib\\site-packages (from requests>=2.24.0->pandas-profiling->-r requirements.txt (line 11)) (2.5.0)\n",
      "Requirement already satisfied: certifi>=2017.4.17 in d:\\education\\production ready machine learning\\code\\.venv\\lib\\site-packages (from requests>=2.24.0->pandas-profiling->-r requirements.txt (line 11)) (2025.7.9)\n",
      "Requirement already satisfied: PyWavelets in d:\\education\\production ready machine learning\\code\\.venv\\lib\\site-packages (from imagehash->visions[type_image_path]==0.7.1->pandas-profiling->-r requirements.txt (line 11)) (1.8.0)\n",
      "Requirement already satisfied: executing>=1.2.0 in d:\\education\\production ready machine learning\\code\\.venv\\lib\\site-packages (from stack_data->ipython->-r requirements.txt (line 13)) (2.2.0)\n",
      "Requirement already satisfied: asttokens>=2.1.0 in d:\\education\\production ready machine learning\\code\\.venv\\lib\\site-packages (from stack_data->ipython->-r requirements.txt (line 13)) (3.0.0)\n",
      "Requirement already satisfied: pure-eval in d:\\education\\production ready machine learning\\code\\.venv\\lib\\site-packages (from stack_data->ipython->-r requirements.txt (line 13)) (0.2.3)\n"
     ]
    },
    {
     "name": "stderr",
     "output_type": "stream",
     "text": [
      "\n",
      "[notice] A new release of pip is available: 25.1.1 -> 25.2\n",
      "[notice] To update, run: python.exe -m pip install --upgrade pip\n"
     ]
    }
   ],
   "execution_count": 1
  },
  {
   "metadata": {
    "ExecuteTime": {
     "end_time": "2025-08-02T13:39:28.060991Z",
     "start_time": "2025-08-02T13:39:28.030625Z"
    }
   },
   "cell_type": "code",
   "source": [
    "import warnings\n",
    "import numpy as np\n",
    "import pandas as pd\n",
    "import matplotlib.pyplot as plt\n",
    "import seaborn as sns\n",
    "from sklearn.linear_model import LogisticRegression\n",
    "from sklearn.metrics import (\n",
    "    classification_report,\n",
    "    confusion_matrix,\n",
    "    roc_auc_score,\n",
    "    roc_curve,\n",
    "    precision_recall_curve,\n",
    "    f1_score,\n",
    "    precision_score,\n",
    "    recall_score,\n",
    "    accuracy_score\n",
    ")\n",
    "from sklearn.model_selection import (StratifiedKFold, cross_validate)\n",
    "warnings.filterwarnings('ignore')"
   ],
   "id": "f1f7485a813d317b",
   "outputs": [],
   "execution_count": 2
  },
  {
   "metadata": {
    "ExecuteTime": {
     "end_time": "2025-08-02T13:39:28.076776Z",
     "start_time": "2025-08-02T13:39:28.070734Z"
    }
   },
   "cell_type": "code",
   "source": [
    "X_train = np.load('artifacts/X_train.npz')['X_train']\n",
    "X_test = np.load('artifacts/X_test.npz')['X_train']\n",
    "Y_train = np.load('artifacts/Y_train.npz')['X_train']\n",
    "Y_test = np.load('artifacts/Y_test.npz')['X_train']"
   ],
   "id": "76cf994719e3c93",
   "outputs": [],
   "execution_count": 3
  },
  {
   "metadata": {
    "ExecuteTime": {
     "end_time": "2025-08-02T13:39:28.089481Z",
     "start_time": "2025-08-02T13:39:28.087075Z"
    }
   },
   "cell_type": "code",
   "source": "cv = StratifiedKFold(n_splits=6, shuffle=True, random_state=42)",
   "id": "61e51786bd257a24",
   "outputs": [],
   "execution_count": 4
  },
  {
   "metadata": {
    "ExecuteTime": {
     "end_time": "2025-08-02T13:39:28.103658Z",
     "start_time": "2025-08-02T13:39:28.100559Z"
    }
   },
   "cell_type": "code",
   "source": [
    "model_lr = LogisticRegression(\n",
    "    random_state=42,\n",
    "    max_iter = 1000,\n",
    ")"
   ],
   "id": "e7b4d516e54370a9",
   "outputs": [],
   "execution_count": 5
  },
  {
   "metadata": {
    "ExecuteTime": {
     "end_time": "2025-08-02T13:39:28.174685Z",
     "start_time": "2025-08-02T13:39:28.114411Z"
    }
   },
   "cell_type": "code",
   "source": "cv_results = cross_validate(model_lr, X_train, Y_train, cv=cv,  scoring='f1' ,return_train_score=False)",
   "id": "87a0ab5ac20da282",
   "outputs": [],
   "execution_count": 6
  },
  {
   "metadata": {
    "ExecuteTime": {
     "end_time": "2025-08-02T13:39:28.192907Z",
     "start_time": "2025-08-02T13:39:28.186309Z"
    }
   },
   "cell_type": "code",
   "source": "cv_results",
   "id": "5f8017e5ebb7592c",
   "outputs": [
    {
     "data": {
      "text/plain": [
       "{'fit_time': array([0.00911069, 0.00665736, 0.0070684 , 0.00606537, 0.00763369,\n",
       "        0.00605249]),\n",
       " 'score_time': array([0.00102019, 0.00150371, 0.00203824, 0.00251746, 0.00150466,\n",
       "        0.00201797]),\n",
       " 'test_score': array([0.73789174, 0.71247059, 0.73377234, 0.74063537, 0.72795851,\n",
       "        0.7381733 ])}"
      ]
     },
     "execution_count": 7,
     "metadata": {},
     "output_type": "execute_result"
    }
   ],
   "execution_count": 7
  },
  {
   "metadata": {
    "ExecuteTime": {
     "end_time": "2025-08-02T13:39:28.436234Z",
     "start_time": "2025-08-02T13:39:28.204257Z"
    }
   },
   "cell_type": "code",
   "source": [
    "score_array = ['accuracy', 'precision', 'recall', 'f1']\n",
    "for score in score_array:\n",
    "    cv_results = cross_validate(model_lr, X_train, Y_train, cv=cv,  scoring=score ,return_train_score=False)\n",
    "\n",
    "    test_score = cv_results['test_score']\n",
    "    test_score_avg = np.mean(test_score)\n",
    "    print(f\"{score} : {test_score_avg:.4f}\")"
   ],
   "id": "e051fd8ba4d204f5",
   "outputs": [
    {
     "name": "stdout",
     "output_type": "stream",
     "text": [
      "accuracy : 0.7307\n",
      "precision : 0.7288\n",
      "recall : 0.7349\n",
      "f1 : 0.7318\n"
     ]
    }
   ],
   "execution_count": 8
  },
  {
   "metadata": {
    "ExecuteTime": {
     "end_time": "2025-08-02T13:39:28.457696Z",
     "start_time": "2025-08-02T13:39:28.453672Z"
    }
   },
   "cell_type": "code",
   "source": [
    "test_f1_score = np.argmax(cv_results['test_score'])\n",
    "test_f1_score"
   ],
   "id": "df2137166f86913",
   "outputs": [
    {
     "data": {
      "text/plain": [
       "np.int64(3)"
      ]
     },
     "execution_count": 9,
     "metadata": {},
     "output_type": "execute_result"
    }
   ],
   "execution_count": 9
  },
  {
   "metadata": {
    "ExecuteTime": {
     "end_time": "2025-08-02T13:40:33.318385Z",
     "start_time": "2025-08-02T13:40:33.310280Z"
    }
   },
   "cell_type": "code",
   "source": [
    "fold_indices = list(cv.split(X_train, Y_train))\n",
    "fold_indices"
   ],
   "id": "51e68136867a37a8",
   "outputs": [
    {
     "data": {
      "text/plain": [
       "[(array([    0,     1,     2, ..., 12665, 12666, 12667], shape=(10556,)),\n",
       "  array([    5,    15,    23, ..., 12655, 12658, 12663], shape=(2112,))),\n",
       " (array([    2,     3,     5, ..., 12664, 12665, 12667], shape=(10556,)),\n",
       "  array([    0,     1,     4, ..., 12651, 12661, 12666], shape=(2112,))),\n",
       " (array([    0,     1,     3, ..., 12665, 12666, 12667], shape=(10557,)),\n",
       "  array([    2,    10,    18, ..., 12653, 12659, 12664], shape=(2111,))),\n",
       " (array([    0,     1,     2, ..., 12664, 12666, 12667], shape=(10557,)),\n",
       "  array([   11,    13,    22, ..., 12646, 12656, 12665], shape=(2111,))),\n",
       " (array([    0,     1,     2, ..., 12665, 12666, 12667], shape=(10557,)),\n",
       "  array([    6,     7,     8, ..., 12648, 12657, 12660], shape=(2111,))),\n",
       " (array([    0,     1,     2, ..., 12664, 12665, 12666], shape=(10557,)),\n",
       "  array([    3,    16,    24, ..., 12654, 12662, 12667], shape=(2111,)))]"
      ]
     },
     "execution_count": 10,
     "metadata": {},
     "output_type": "execute_result"
    }
   ],
   "execution_count": 10
  },
  {
   "metadata": {
    "ExecuteTime": {
     "end_time": "2025-08-02T13:42:03.485752Z",
     "start_time": "2025-08-02T13:42:03.480540Z"
    }
   },
   "cell_type": "code",
   "source": [
    "best_training_idx, best_test_idx = fold_indices[test_f1_score]\n",
    "best_training_idx, best_test_idx"
   ],
   "id": "c486cb929c16c823",
   "outputs": [
    {
     "data": {
      "text/plain": [
       "(array([    0,     1,     2, ..., 12664, 12666, 12667], shape=(10557,)),\n",
       " array([   11,    13,    22, ..., 12646, 12656, 12665], shape=(2111,)))"
      ]
     },
     "execution_count": 12,
     "metadata": {},
     "output_type": "execute_result"
    }
   ],
   "execution_count": 12
  },
  {
   "metadata": {
    "ExecuteTime": {
     "end_time": "2025-08-02T13:46:04.253671Z",
     "start_time": "2025-08-02T13:46:04.249735Z"
    }
   },
   "cell_type": "code",
   "source": [
    "X_train_best = X_train[best_training_idx]\n",
    "Y_train_best = Y_train[best_training_idx]\n",
    "X_test_best = Y_train[best_test_idx]\n",
    "Y_test_best = Y_train[best_test_idx]"
   ],
   "id": "983f8324240a3398",
   "outputs": [],
   "execution_count": 17
  },
  {
   "metadata": {
    "ExecuteTime": {
     "end_time": "2025-08-02T13:46:34.353796Z",
     "start_time": "2025-08-02T13:46:34.338928Z"
    }
   },
   "cell_type": "code",
   "source": [
    "model_lr = LogisticRegression(\n",
    "    random_state=42,\n",
    "    max_iter = 1000,\n",
    ")\n",
    "\n",
    "model_lr.fit(X_train_best, Y_train_best)"
   ],
   "id": "f19abe2ffcf40961",
   "outputs": [
    {
     "data": {
      "text/plain": [
       "LogisticRegression(max_iter=1000, random_state=42)"
      ],
      "text/html": [
       "<style>#sk-container-id-1 {\n",
       "  /* Definition of color scheme common for light and dark mode */\n",
       "  --sklearn-color-text: #000;\n",
       "  --sklearn-color-text-muted: #666;\n",
       "  --sklearn-color-line: gray;\n",
       "  /* Definition of color scheme for unfitted estimators */\n",
       "  --sklearn-color-unfitted-level-0: #fff5e6;\n",
       "  --sklearn-color-unfitted-level-1: #f6e4d2;\n",
       "  --sklearn-color-unfitted-level-2: #ffe0b3;\n",
       "  --sklearn-color-unfitted-level-3: chocolate;\n",
       "  /* Definition of color scheme for fitted estimators */\n",
       "  --sklearn-color-fitted-level-0: #f0f8ff;\n",
       "  --sklearn-color-fitted-level-1: #d4ebff;\n",
       "  --sklearn-color-fitted-level-2: #b3dbfd;\n",
       "  --sklearn-color-fitted-level-3: cornflowerblue;\n",
       "\n",
       "  /* Specific color for light theme */\n",
       "  --sklearn-color-text-on-default-background: var(--sg-text-color, var(--theme-code-foreground, var(--jp-content-font-color1, black)));\n",
       "  --sklearn-color-background: var(--sg-background-color, var(--theme-background, var(--jp-layout-color0, white)));\n",
       "  --sklearn-color-border-box: var(--sg-text-color, var(--theme-code-foreground, var(--jp-content-font-color1, black)));\n",
       "  --sklearn-color-icon: #696969;\n",
       "\n",
       "  @media (prefers-color-scheme: dark) {\n",
       "    /* Redefinition of color scheme for dark theme */\n",
       "    --sklearn-color-text-on-default-background: var(--sg-text-color, var(--theme-code-foreground, var(--jp-content-font-color1, white)));\n",
       "    --sklearn-color-background: var(--sg-background-color, var(--theme-background, var(--jp-layout-color0, #111)));\n",
       "    --sklearn-color-border-box: var(--sg-text-color, var(--theme-code-foreground, var(--jp-content-font-color1, white)));\n",
       "    --sklearn-color-icon: #878787;\n",
       "  }\n",
       "}\n",
       "\n",
       "#sk-container-id-1 {\n",
       "  color: var(--sklearn-color-text);\n",
       "}\n",
       "\n",
       "#sk-container-id-1 pre {\n",
       "  padding: 0;\n",
       "}\n",
       "\n",
       "#sk-container-id-1 input.sk-hidden--visually {\n",
       "  border: 0;\n",
       "  clip: rect(1px 1px 1px 1px);\n",
       "  clip: rect(1px, 1px, 1px, 1px);\n",
       "  height: 1px;\n",
       "  margin: -1px;\n",
       "  overflow: hidden;\n",
       "  padding: 0;\n",
       "  position: absolute;\n",
       "  width: 1px;\n",
       "}\n",
       "\n",
       "#sk-container-id-1 div.sk-dashed-wrapped {\n",
       "  border: 1px dashed var(--sklearn-color-line);\n",
       "  margin: 0 0.4em 0.5em 0.4em;\n",
       "  box-sizing: border-box;\n",
       "  padding-bottom: 0.4em;\n",
       "  background-color: var(--sklearn-color-background);\n",
       "}\n",
       "\n",
       "#sk-container-id-1 div.sk-container {\n",
       "  /* jupyter's `normalize.less` sets `[hidden] { display: none; }`\n",
       "     but bootstrap.min.css set `[hidden] { display: none !important; }`\n",
       "     so we also need the `!important` here to be able to override the\n",
       "     default hidden behavior on the sphinx rendered scikit-learn.org.\n",
       "     See: https://github.com/scikit-learn/scikit-learn/issues/21755 */\n",
       "  display: inline-block !important;\n",
       "  position: relative;\n",
       "}\n",
       "\n",
       "#sk-container-id-1 div.sk-text-repr-fallback {\n",
       "  display: none;\n",
       "}\n",
       "\n",
       "div.sk-parallel-item,\n",
       "div.sk-serial,\n",
       "div.sk-item {\n",
       "  /* draw centered vertical line to link estimators */\n",
       "  background-image: linear-gradient(var(--sklearn-color-text-on-default-background), var(--sklearn-color-text-on-default-background));\n",
       "  background-size: 2px 100%;\n",
       "  background-repeat: no-repeat;\n",
       "  background-position: center center;\n",
       "}\n",
       "\n",
       "/* Parallel-specific style estimator block */\n",
       "\n",
       "#sk-container-id-1 div.sk-parallel-item::after {\n",
       "  content: \"\";\n",
       "  width: 100%;\n",
       "  border-bottom: 2px solid var(--sklearn-color-text-on-default-background);\n",
       "  flex-grow: 1;\n",
       "}\n",
       "\n",
       "#sk-container-id-1 div.sk-parallel {\n",
       "  display: flex;\n",
       "  align-items: stretch;\n",
       "  justify-content: center;\n",
       "  background-color: var(--sklearn-color-background);\n",
       "  position: relative;\n",
       "}\n",
       "\n",
       "#sk-container-id-1 div.sk-parallel-item {\n",
       "  display: flex;\n",
       "  flex-direction: column;\n",
       "}\n",
       "\n",
       "#sk-container-id-1 div.sk-parallel-item:first-child::after {\n",
       "  align-self: flex-end;\n",
       "  width: 50%;\n",
       "}\n",
       "\n",
       "#sk-container-id-1 div.sk-parallel-item:last-child::after {\n",
       "  align-self: flex-start;\n",
       "  width: 50%;\n",
       "}\n",
       "\n",
       "#sk-container-id-1 div.sk-parallel-item:only-child::after {\n",
       "  width: 0;\n",
       "}\n",
       "\n",
       "/* Serial-specific style estimator block */\n",
       "\n",
       "#sk-container-id-1 div.sk-serial {\n",
       "  display: flex;\n",
       "  flex-direction: column;\n",
       "  align-items: center;\n",
       "  background-color: var(--sklearn-color-background);\n",
       "  padding-right: 1em;\n",
       "  padding-left: 1em;\n",
       "}\n",
       "\n",
       "\n",
       "/* Toggleable style: style used for estimator/Pipeline/ColumnTransformer box that is\n",
       "clickable and can be expanded/collapsed.\n",
       "- Pipeline and ColumnTransformer use this feature and define the default style\n",
       "- Estimators will overwrite some part of the style using the `sk-estimator` class\n",
       "*/\n",
       "\n",
       "/* Pipeline and ColumnTransformer style (default) */\n",
       "\n",
       "#sk-container-id-1 div.sk-toggleable {\n",
       "  /* Default theme specific background. It is overwritten whether we have a\n",
       "  specific estimator or a Pipeline/ColumnTransformer */\n",
       "  background-color: var(--sklearn-color-background);\n",
       "}\n",
       "\n",
       "/* Toggleable label */\n",
       "#sk-container-id-1 label.sk-toggleable__label {\n",
       "  cursor: pointer;\n",
       "  display: flex;\n",
       "  width: 100%;\n",
       "  margin-bottom: 0;\n",
       "  padding: 0.5em;\n",
       "  box-sizing: border-box;\n",
       "  text-align: center;\n",
       "  align-items: start;\n",
       "  justify-content: space-between;\n",
       "  gap: 0.5em;\n",
       "}\n",
       "\n",
       "#sk-container-id-1 label.sk-toggleable__label .caption {\n",
       "  font-size: 0.6rem;\n",
       "  font-weight: lighter;\n",
       "  color: var(--sklearn-color-text-muted);\n",
       "}\n",
       "\n",
       "#sk-container-id-1 label.sk-toggleable__label-arrow:before {\n",
       "  /* Arrow on the left of the label */\n",
       "  content: \"▸\";\n",
       "  float: left;\n",
       "  margin-right: 0.25em;\n",
       "  color: var(--sklearn-color-icon);\n",
       "}\n",
       "\n",
       "#sk-container-id-1 label.sk-toggleable__label-arrow:hover:before {\n",
       "  color: var(--sklearn-color-text);\n",
       "}\n",
       "\n",
       "/* Toggleable content - dropdown */\n",
       "\n",
       "#sk-container-id-1 div.sk-toggleable__content {\n",
       "  max-height: 0;\n",
       "  max-width: 0;\n",
       "  overflow: hidden;\n",
       "  text-align: left;\n",
       "  /* unfitted */\n",
       "  background-color: var(--sklearn-color-unfitted-level-0);\n",
       "}\n",
       "\n",
       "#sk-container-id-1 div.sk-toggleable__content.fitted {\n",
       "  /* fitted */\n",
       "  background-color: var(--sklearn-color-fitted-level-0);\n",
       "}\n",
       "\n",
       "#sk-container-id-1 div.sk-toggleable__content pre {\n",
       "  margin: 0.2em;\n",
       "  border-radius: 0.25em;\n",
       "  color: var(--sklearn-color-text);\n",
       "  /* unfitted */\n",
       "  background-color: var(--sklearn-color-unfitted-level-0);\n",
       "}\n",
       "\n",
       "#sk-container-id-1 div.sk-toggleable__content.fitted pre {\n",
       "  /* unfitted */\n",
       "  background-color: var(--sklearn-color-fitted-level-0);\n",
       "}\n",
       "\n",
       "#sk-container-id-1 input.sk-toggleable__control:checked~div.sk-toggleable__content {\n",
       "  /* Expand drop-down */\n",
       "  max-height: 200px;\n",
       "  max-width: 100%;\n",
       "  overflow: auto;\n",
       "}\n",
       "\n",
       "#sk-container-id-1 input.sk-toggleable__control:checked~label.sk-toggleable__label-arrow:before {\n",
       "  content: \"▾\";\n",
       "}\n",
       "\n",
       "/* Pipeline/ColumnTransformer-specific style */\n",
       "\n",
       "#sk-container-id-1 div.sk-label input.sk-toggleable__control:checked~label.sk-toggleable__label {\n",
       "  color: var(--sklearn-color-text);\n",
       "  background-color: var(--sklearn-color-unfitted-level-2);\n",
       "}\n",
       "\n",
       "#sk-container-id-1 div.sk-label.fitted input.sk-toggleable__control:checked~label.sk-toggleable__label {\n",
       "  background-color: var(--sklearn-color-fitted-level-2);\n",
       "}\n",
       "\n",
       "/* Estimator-specific style */\n",
       "\n",
       "/* Colorize estimator box */\n",
       "#sk-container-id-1 div.sk-estimator input.sk-toggleable__control:checked~label.sk-toggleable__label {\n",
       "  /* unfitted */\n",
       "  background-color: var(--sklearn-color-unfitted-level-2);\n",
       "}\n",
       "\n",
       "#sk-container-id-1 div.sk-estimator.fitted input.sk-toggleable__control:checked~label.sk-toggleable__label {\n",
       "  /* fitted */\n",
       "  background-color: var(--sklearn-color-fitted-level-2);\n",
       "}\n",
       "\n",
       "#sk-container-id-1 div.sk-label label.sk-toggleable__label,\n",
       "#sk-container-id-1 div.sk-label label {\n",
       "  /* The background is the default theme color */\n",
       "  color: var(--sklearn-color-text-on-default-background);\n",
       "}\n",
       "\n",
       "/* On hover, darken the color of the background */\n",
       "#sk-container-id-1 div.sk-label:hover label.sk-toggleable__label {\n",
       "  color: var(--sklearn-color-text);\n",
       "  background-color: var(--sklearn-color-unfitted-level-2);\n",
       "}\n",
       "\n",
       "/* Label box, darken color on hover, fitted */\n",
       "#sk-container-id-1 div.sk-label.fitted:hover label.sk-toggleable__label.fitted {\n",
       "  color: var(--sklearn-color-text);\n",
       "  background-color: var(--sklearn-color-fitted-level-2);\n",
       "}\n",
       "\n",
       "/* Estimator label */\n",
       "\n",
       "#sk-container-id-1 div.sk-label label {\n",
       "  font-family: monospace;\n",
       "  font-weight: bold;\n",
       "  display: inline-block;\n",
       "  line-height: 1.2em;\n",
       "}\n",
       "\n",
       "#sk-container-id-1 div.sk-label-container {\n",
       "  text-align: center;\n",
       "}\n",
       "\n",
       "/* Estimator-specific */\n",
       "#sk-container-id-1 div.sk-estimator {\n",
       "  font-family: monospace;\n",
       "  border: 1px dotted var(--sklearn-color-border-box);\n",
       "  border-radius: 0.25em;\n",
       "  box-sizing: border-box;\n",
       "  margin-bottom: 0.5em;\n",
       "  /* unfitted */\n",
       "  background-color: var(--sklearn-color-unfitted-level-0);\n",
       "}\n",
       "\n",
       "#sk-container-id-1 div.sk-estimator.fitted {\n",
       "  /* fitted */\n",
       "  background-color: var(--sklearn-color-fitted-level-0);\n",
       "}\n",
       "\n",
       "/* on hover */\n",
       "#sk-container-id-1 div.sk-estimator:hover {\n",
       "  /* unfitted */\n",
       "  background-color: var(--sklearn-color-unfitted-level-2);\n",
       "}\n",
       "\n",
       "#sk-container-id-1 div.sk-estimator.fitted:hover {\n",
       "  /* fitted */\n",
       "  background-color: var(--sklearn-color-fitted-level-2);\n",
       "}\n",
       "\n",
       "/* Specification for estimator info (e.g. \"i\" and \"?\") */\n",
       "\n",
       "/* Common style for \"i\" and \"?\" */\n",
       "\n",
       ".sk-estimator-doc-link,\n",
       "a:link.sk-estimator-doc-link,\n",
       "a:visited.sk-estimator-doc-link {\n",
       "  float: right;\n",
       "  font-size: smaller;\n",
       "  line-height: 1em;\n",
       "  font-family: monospace;\n",
       "  background-color: var(--sklearn-color-background);\n",
       "  border-radius: 1em;\n",
       "  height: 1em;\n",
       "  width: 1em;\n",
       "  text-decoration: none !important;\n",
       "  margin-left: 0.5em;\n",
       "  text-align: center;\n",
       "  /* unfitted */\n",
       "  border: var(--sklearn-color-unfitted-level-1) 1pt solid;\n",
       "  color: var(--sklearn-color-unfitted-level-1);\n",
       "}\n",
       "\n",
       ".sk-estimator-doc-link.fitted,\n",
       "a:link.sk-estimator-doc-link.fitted,\n",
       "a:visited.sk-estimator-doc-link.fitted {\n",
       "  /* fitted */\n",
       "  border: var(--sklearn-color-fitted-level-1) 1pt solid;\n",
       "  color: var(--sklearn-color-fitted-level-1);\n",
       "}\n",
       "\n",
       "/* On hover */\n",
       "div.sk-estimator:hover .sk-estimator-doc-link:hover,\n",
       ".sk-estimator-doc-link:hover,\n",
       "div.sk-label-container:hover .sk-estimator-doc-link:hover,\n",
       ".sk-estimator-doc-link:hover {\n",
       "  /* unfitted */\n",
       "  background-color: var(--sklearn-color-unfitted-level-3);\n",
       "  color: var(--sklearn-color-background);\n",
       "  text-decoration: none;\n",
       "}\n",
       "\n",
       "div.sk-estimator.fitted:hover .sk-estimator-doc-link.fitted:hover,\n",
       ".sk-estimator-doc-link.fitted:hover,\n",
       "div.sk-label-container:hover .sk-estimator-doc-link.fitted:hover,\n",
       ".sk-estimator-doc-link.fitted:hover {\n",
       "  /* fitted */\n",
       "  background-color: var(--sklearn-color-fitted-level-3);\n",
       "  color: var(--sklearn-color-background);\n",
       "  text-decoration: none;\n",
       "}\n",
       "\n",
       "/* Span, style for the box shown on hovering the info icon */\n",
       ".sk-estimator-doc-link span {\n",
       "  display: none;\n",
       "  z-index: 9999;\n",
       "  position: relative;\n",
       "  font-weight: normal;\n",
       "  right: .2ex;\n",
       "  padding: .5ex;\n",
       "  margin: .5ex;\n",
       "  width: min-content;\n",
       "  min-width: 20ex;\n",
       "  max-width: 50ex;\n",
       "  color: var(--sklearn-color-text);\n",
       "  box-shadow: 2pt 2pt 4pt #999;\n",
       "  /* unfitted */\n",
       "  background: var(--sklearn-color-unfitted-level-0);\n",
       "  border: .5pt solid var(--sklearn-color-unfitted-level-3);\n",
       "}\n",
       "\n",
       ".sk-estimator-doc-link.fitted span {\n",
       "  /* fitted */\n",
       "  background: var(--sklearn-color-fitted-level-0);\n",
       "  border: var(--sklearn-color-fitted-level-3);\n",
       "}\n",
       "\n",
       ".sk-estimator-doc-link:hover span {\n",
       "  display: block;\n",
       "}\n",
       "\n",
       "/* \"?\"-specific style due to the `<a>` HTML tag */\n",
       "\n",
       "#sk-container-id-1 a.estimator_doc_link {\n",
       "  float: right;\n",
       "  font-size: 1rem;\n",
       "  line-height: 1em;\n",
       "  font-family: monospace;\n",
       "  background-color: var(--sklearn-color-background);\n",
       "  border-radius: 1rem;\n",
       "  height: 1rem;\n",
       "  width: 1rem;\n",
       "  text-decoration: none;\n",
       "  /* unfitted */\n",
       "  color: var(--sklearn-color-unfitted-level-1);\n",
       "  border: var(--sklearn-color-unfitted-level-1) 1pt solid;\n",
       "}\n",
       "\n",
       "#sk-container-id-1 a.estimator_doc_link.fitted {\n",
       "  /* fitted */\n",
       "  border: var(--sklearn-color-fitted-level-1) 1pt solid;\n",
       "  color: var(--sklearn-color-fitted-level-1);\n",
       "}\n",
       "\n",
       "/* On hover */\n",
       "#sk-container-id-1 a.estimator_doc_link:hover {\n",
       "  /* unfitted */\n",
       "  background-color: var(--sklearn-color-unfitted-level-3);\n",
       "  color: var(--sklearn-color-background);\n",
       "  text-decoration: none;\n",
       "}\n",
       "\n",
       "#sk-container-id-1 a.estimator_doc_link.fitted:hover {\n",
       "  /* fitted */\n",
       "  background-color: var(--sklearn-color-fitted-level-3);\n",
       "}\n",
       "</style><div id=\"sk-container-id-1\" class=\"sk-top-container\"><div class=\"sk-text-repr-fallback\"><pre>LogisticRegression(max_iter=1000, random_state=42)</pre><b>In a Jupyter environment, please rerun this cell to show the HTML representation or trust the notebook. <br />On GitHub, the HTML representation is unable to render, please try loading this page with nbviewer.org.</b></div><div class=\"sk-container\" hidden><div class=\"sk-item\"><div class=\"sk-estimator fitted sk-toggleable\"><input class=\"sk-toggleable__control sk-hidden--visually\" id=\"sk-estimator-id-1\" type=\"checkbox\" checked><label for=\"sk-estimator-id-1\" class=\"sk-toggleable__label fitted sk-toggleable__label-arrow\"><div><div>LogisticRegression</div></div><div><a class=\"sk-estimator-doc-link fitted\" rel=\"noreferrer\" target=\"_blank\" href=\"https://scikit-learn.org/1.6/modules/generated/sklearn.linear_model.LogisticRegression.html\">?<span>Documentation for LogisticRegression</span></a><span class=\"sk-estimator-doc-link fitted\">i<span>Fitted</span></span></div></label><div class=\"sk-toggleable__content fitted\"><pre>LogisticRegression(max_iter=1000, random_state=42)</pre></div> </div></div></div></div>"
      ]
     },
     "execution_count": 18,
     "metadata": {},
     "output_type": "execute_result"
    }
   ],
   "execution_count": 18
  },
  {
   "metadata": {
    "ExecuteTime": {
     "end_time": "2025-08-02T13:46:50.074556Z",
     "start_time": "2025-08-02T13:46:50.068997Z"
    }
   },
   "cell_type": "code",
   "source": [
    "Y_hat_train = model_lr.predict(X_train)\n",
    "Y_hat_test = model_lr.predict(X_test)\n",
    "\n",
    "Y_proba_train = model_lr.predict_proba(X_train)\n",
    "Y_proba_test = model_lr.predict_proba(X_test)"
   ],
   "id": "e4a345cbe68ca407",
   "outputs": [],
   "execution_count": 19
  },
  {
   "metadata": {
    "ExecuteTime": {
     "end_time": "2025-08-02T13:46:59.516652Z",
     "start_time": "2025-08-02T13:46:59.508061Z"
    }
   },
   "cell_type": "code",
   "source": [
    "accuracy = accuracy_score(Y_test, Y_hat_test)\n",
    "precision = precision_score(Y_test, Y_hat_test)\n",
    "recall = recall_score(Y_test, Y_hat_test)\n",
    "f1 = f1_score(Y_test, Y_hat_test)"
   ],
   "id": "ba6706dea66a31c0",
   "outputs": [],
   "execution_count": 20
  },
  {
   "metadata": {
    "ExecuteTime": {
     "end_time": "2025-08-02T13:47:05.610535Z",
     "start_time": "2025-08-02T13:47:05.606600Z"
    }
   },
   "cell_type": "code",
   "source": [
    "print('Accuracy: ', accuracy)\n",
    "print('Precision: ', precision)\n",
    "print('Recall: ', recall)\n",
    "print('F1 Score: ', f1)"
   ],
   "id": "72049b2d5562d00e",
   "outputs": [
    {
     "name": "stdout",
     "output_type": "stream",
     "text": [
      "Accuracy:  0.6948474237118559\n",
      "Precision:  0.3392857142857143\n",
      "Recall:  0.6569148936170213\n",
      "F1 Score:  0.447463768115942\n"
     ]
    }
   ],
   "execution_count": 21
  },
  {
   "metadata": {
    "ExecuteTime": {
     "end_time": "2025-08-02T13:53:16.847825Z",
     "start_time": "2025-08-02T13:53:16.744247Z"
    }
   },
   "cell_type": "code",
   "source": [
    "cm = confusion_matrix(Y_test, Y_hat_test)\n",
    "sns.heatmap(cm, annot=True, fmt='d')\n",
    "plt.xlabel('Predicted')\n",
    "plt.ylabel('Actual')"
   ],
   "id": "37e643a78c50ce92",
   "outputs": [
    {
     "data": {
      "text/plain": [
       "Text(50.722222222222214, 0.5, 'Actual')"
      ]
     },
     "execution_count": 23,
     "metadata": {},
     "output_type": "execute_result"
    },
    {
     "data": {
      "text/plain": [
       "<Figure size 640x480 with 2 Axes>"
      ],
      "image/png": "[encoded data removed]"
     },
     "metadata": {},
     "output_type": "display_data"
    }
   ],
   "execution_count": 23
  },
  {
   "metadata": {},
   "cell_type": "code",
   "outputs": [],
   "execution_count": null,
   "source": "",
   "id": "2da7e391ce61080e"
  }
 ],
 "metadata": {
  "kernelspec": {
   "display_name": "Python 3",
   "language": "python",
   "name": "python3"
  },
  "language_info": {
   "codemirror_mode": {
    "name": "ipython",
    "version": 2
   },
   "file_extension": ".py",
   "mimetype": "text/x-python",
   "name": "python",
   "nbconvert_exporter": "python",
   "pygments_lexer": "ipython2",
   "version": "2.7.6"
  }
 },
 "nbformat": 4,
 "nbformat_minor": 5
}
